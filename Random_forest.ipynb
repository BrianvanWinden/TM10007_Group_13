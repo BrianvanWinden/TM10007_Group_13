{
 "metadata": {
  "language_info": {
   "codemirror_mode": {
    "name": "ipython",
    "version": 3
   },
   "file_extension": ".py",
   "mimetype": "text/x-python",
   "name": "python",
   "nbconvert_exporter": "python",
   "pygments_lexer": "ipython3",
   "version": 3
  },
  "orig_nbformat": 2
 },
 "nbformat": 4,
 "nbformat_minor": 2,
 "cells": [
  {
   "cell_type": "code",
   "execution_count": null,
   "metadata": {},
   "outputs": [],
   "source": [
    "# Random forest\n",
    "# Bootstrapping is altijd beter\n",
    "# boven 20 bomen is er geeen verbetering meer\n",
    "X = x_train_trans\n",
    "Y = y_train\n",
    "\n",
    "clsfs = [RandomForestClassifier(n_estimators=5, bootstrap=True),\n",
    "         RandomForestClassifier(n_estimators=50, bootstrap=True),\n",
    "         RandomForestClassifier(n_estimators=100, bootstrap=True),\n",
    "         RandomForestClassifier(n_estimators=200, bootstrap=True),\n",
    "         RandomForestClassifier(n_estimators=20, bootstrap=True)]\n",
    "\n",
    "# First make plot without classifiers:\n",
    "num = 0\n",
    "fig = plt.figure(figsize=(24,8*len(clsfs)))\n",
    "ax = fig.add_subplot(7, 3, num + 1)\n",
    "ax.scatter(X[:, 0], X[:, 1], marker='o', c=Y,\n",
    "    s=25, edgecolor='k', cmap=plt.cm.Paired)\n",
    "num += 1\n",
    "    \n",
    "# Now use the classifiers on all datasets\n",
    "for clf in clsfs:\n",
    "    clf.fit(X, Y)\n",
    "    ax = fig.add_subplot(7, 3, num + 1)\n",
    "    ax.scatter(X[:, 0], X[:, 1], marker='o', c=Y,\n",
    "        s=25, edgecolor='k', cmap=plt.cm.Paired)\n",
    "    colorplot(clf, ax, X[:, 0], X[:, 1])\n",
    "    y_pred = clf.predict(x_val_trans)\n",
    "    t = (\"Misclassified: %d / %d\" % ((y_val != y_pred).sum(), x_val_trans.shape[0]))\n",
    "    ax.set_title(t)\n",
    "    num += 1\n"
   ]
  }
 ]
}