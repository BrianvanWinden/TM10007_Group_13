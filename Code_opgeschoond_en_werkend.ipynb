{
  "nbformat": 4,
  "nbformat_minor": 0,
  "metadata": {
    "colab": {
      "name": "Code opgeschoond en werkend.ipynb",
      "provenance": [],
      "collapsed_sections": [
        "_AECMogeXS0K"
      ]
    },
    "kernelspec": {
      "name": "python3",
      "display_name": "Python 3"
    },
    "language_info": {
      "name": "python"
    }
  },
  "cells": [
    {
      "cell_type": "markdown",
      "metadata": {
        "id": "cF2F_jjxW_wK"
      },
      "source": [
        "## Assignment arrhythmia classification"
      ]
    },
    {
      "cell_type": "code",
      "metadata": {
        "colab": {
          "base_uri": "https://localhost:8080/"
        },
        "id": "i1-5TqoFW8_e",
        "outputId": "7cc7487a-ee5f-4796-f91b-5f0eb1810aaf"
      },
      "source": [
        "# Run this to use from colab environment\n",
        "!git clone https://github.com/BrianvanWinden/TM10007_Group_13.git\n",
        "!unzip \"/content/TM10007_Group_13/ecg/ecg_data.zip\"\n",
        "import pandas as pd \n",
        "\n",
        "data = pd.read_csv(\"ecg_data.csv\") \n",
        "\n",
        "# print(data.head())"
      ],
      "execution_count": 1,
      "outputs": [
        {
          "output_type": "stream",
          "text": [
            "Cloning into 'TM10007_Group_13'...\n",
            "remote: Enumerating objects: 84, done.\u001b[K\n",
            "remote: Counting objects: 100% (84/84), done.\u001b[K\n",
            "remote: Compressing objects: 100% (68/68), done.\u001b[K\n",
            "remote: Total 84 (delta 37), reused 47 (delta 14), pack-reused 0\u001b[K\n",
            "Unpacking objects: 100% (84/84), done.\n",
            "Archive:  /content/TM10007_Group_13/ecg/ecg_data.zip\n",
            "  inflating: ecg_data.csv            \n"
          ],
          "name": "stdout"
        }
      ]
    },
    {
      "cell_type": "markdown",
      "metadata": {
        "id": "gFrCH_KzXOBE"
      },
      "source": [
        "# Importing functions"
      ]
    },
    {
      "cell_type": "code",
      "metadata": {
        "id": "N5x3ZkH7XPa0"
      },
      "source": [
        "# General packages\n",
        "import numpy as np\n",
        "import matplotlib.pyplot as plt\n",
        "import pandas as pd\n",
        "import seaborn as sns\n",
        "from sklearn import datasets as ds\n",
        "from scipy.stats import randint\n",
        "from zipfile import ZipFile\n",
        "from scipy import stats\n",
        "\n",
        "\n",
        "# Classifiers and kernels\n",
        "from sklearn.neighbors import KNeighborsClassifier\n",
        "from sklearn.ensemble import RandomForestClassifier\n",
        "from sklearn.naive_bayes import GaussianNB\n",
        "from sklearn.discriminant_analysis import LinearDiscriminantAnalysis as LDA, QuadraticDiscriminantAnalysis\n",
        "from sklearn.linear_model import LogisticRegression, SGDClassifier\n",
        "from sklearn.tree import DecisionTreeClassifier\n",
        "from sklearn.svm import SVC, LinearSVC\n",
        "from sklearn.decomposition import PCA\n",
        "from sklearn import preprocessing, metrics\n",
        "from sklearn.kernel_approximation import RBFSampler\n",
        "from sklearn.metrics.pairwise import rbf_kernel, sigmoid_kernel\n",
        "from sklearn.metrics import classification_report, confusion_matrix, precision_score, recall_score, accuracy_score, f1_score, roc_auc_score\n",
        "\n",
        "# Regularization\n",
        "from sklearn.linear_model import Lasso, RidgeClassifier\n",
        "from sklearn.feature_selection import SelectFromModel\n",
        "\n",
        "# Model selection\n",
        "from sklearn.model_selection import RandomizedSearchCV, GridSearchCV, train_test_split, learning_curve, ShuffleSplit, StratifiedKFold\n",
        "\n",
        "from sklearn.pipeline import Pipeline\n",
        "\n",
        "from numpy import mean\n",
        "from numpy import std\n",
        "from sklearn.datasets import make_classification\n",
        "from sklearn.model_selection import KFold\n",
        "from sklearn.model_selection import GridSearchCV\n",
        "from sklearn.ensemble import RandomForestClassifier\n",
        "from sklearn.metrics import accuracy_score\n",
        "\n",
        "# Sampling\n",
        "from imblearn.combine import SMOTEENN\n",
        "from imblearn.under_sampling import EditedNearestNeighbours\n",
        "\n",
        "\n",
        "\n",
        "def evaluation(y_val, y_pred, title = 'Confusion Matrix'):\n",
        "    cm = confusion_matrix(y_val, y_pred)\n",
        "    precision = precision_score(y_val, y_pred)\n",
        "    recall = recall_score(y_val, y_pred)\n",
        "    accuracy = accuracy_score(y_val, y_pred)\n",
        "    f1 = f1_score(y_val, y_pred)\n",
        "    # print('Recall: ', recall)\n",
        "    # print('Accuracy: ', accuracy)\n",
        "    # print('Precision: ', precision)\n",
        "    # print('F1: ', f1)\n",
        "    sns.heatmap(cm,  cmap= 'PuBu', annot=True, fmt='g', annot_kws=    {'size':20})\n",
        "    plt.xlabel('predicted', fontsize=18)\n",
        "    plt.ylabel('actual', fontsize=18)\n",
        "    plt.title(title, fontsize=18)\n"
      ],
      "execution_count": 55,
      "outputs": []
    },
    {
      "cell_type": "markdown",
      "metadata": {
        "id": "_AECMogeXS0K"
      },
      "source": [
        "# Taking a look at the data"
      ]
    },
    {
      "cell_type": "code",
      "metadata": {
        "colab": {
          "base_uri": "https://localhost:8080/"
        },
        "id": "WQkqAm3RXWhd",
        "outputId": "4e01fa36-4322-4410-917f-d267bad810be"
      },
      "source": [
        "# Samples and features\n",
        "print(f'The number of samples: {len(data.index)}')\n",
        "print(f'The number of features: {len(data.columns)}')\n",
        "healthy_patients = (list(data['label'] == 0)).count(True)\n",
        "print(f'The number of healthy patients: {healthy_patients}') \n",
        "sick_patients = (list(data['label'] == 1)).count(True)\n",
        "print(f'The number of sick patients: {sick_patients}')\n",
        "percentage_sick=sick_patients/(sick_patients+healthy_patients)\n",
        "print(f'Percentage of sick patients: {round(percentage_sick,2)*100}%')\n",
        "\n",
        "# Outliers\n",
        "z = np.abs(stats.zscore(data))\n",
        "x = np.where(z>3)\n",
        "print(f'Number of features where the Z score is larger {len(x[1])}')\n",
        "\n",
        "# Missing values\n",
        "missing_values = data.isna().sum()\n",
        "number_missing_values = missing_values.astype(bool).sum(axis=0)\n",
        "print(f'Number of missig data points:{number_missing_values}')\n",
        "\n",
        "# Data\n",
        "data_points= data.drop(['label'], axis=1).to_numpy()\n",
        "data_labels= data['label'].to_numpy()\n",
        "\n",
        "\n"
      ],
      "execution_count": 4,
      "outputs": [
        {
          "output_type": "stream",
          "text": [
            "The number of samples: 827\n",
            "The number of features: 9002\n",
            "The number of healthy patients: 681\n",
            "The number of sick patients: 146\n",
            "Percentage of sick patients: 18.0%\n",
            "Number of features where the Z score is larger 57812\n",
            "Number of missig data points:0\n"
          ],
          "name": "stdout"
        }
      ]
    },
    {
      "cell_type": "markdown",
      "metadata": {
        "id": "E0ddx2i7Xajb"
      },
      "source": [
        "# Preprocessing and classifier validation"
      ]
    },
    {
      "cell_type": "code",
      "metadata": {
        "colab": {
          "base_uri": "https://localhost:8080/",
          "height": 568
        },
        "id": "zaqV1Y1YXbar",
        "outputId": "777526db-5fc3-44b7-8dc3-a7f0bc32ebe3"
      },
      "source": [
        "# Splitting data  \n",
        "import warnings\n",
        "warnings.simplefilter(action='ignore', category=FutureWarning)\n",
        "from sklearn.exceptions import ConvergenceWarning\n",
        "warnings.filterwarnings(\"ignore\", category=ConvergenceWarning)\n",
        "\n",
        "x_train_val, x_test, y_train_val, y_test = train_test_split(data_points, data_labels, test_size=0.2, stratify=data_labels)\n",
        "\n",
        "cv_outer = StratifiedKFold(n_splits=10, shuffle=True, random_state=1)\n",
        "outer_results = list()\n",
        "all_scores = list()\n",
        "models = list()\n",
        "\n",
        "for train_ix, val_ix in cv_outer.split(x_train_val,y_train_val):\n",
        "  # split data\n",
        "  X_train, X_val = x_train_val[train_ix, :], x_train_val[val_ix, :]\n",
        "  y_train, y_val = y_train_val[train_ix], y_train_val[val_ix]\n",
        "\n",
        "  #Resampling\n",
        "  # combines SMOTE over and edited nearest neighbour undersampling\n",
        "  # edited nearest neighbours kan van beide groepen weghalen, met sampling_strategy='majority' alleen van grote groep\n",
        "  # the authors comment that ENN is more aggressive at downsampling the majority class than Tomek Links, providing more in-depth cleaning. They apply the method, removing examples from both the majority and minority classes.\n",
        "  #A Study of the Behavior of Several Methods for Balancing Machine Learning Training Data, 2004.\n",
        "  resample = SMOTEENN(enn=EditedNearestNeighbours(sampling_strategy='majority'))\n",
        "  X_resampled, y_resampled = resample.fit_resample(X_train, y_train)\n",
        "\n",
        "  #Scaling\n",
        "  scaler = preprocessing.RobustScaler()\n",
        "  scaler.fit(X_resampled)\n",
        "  x_train_scaled = scaler.transform(X_resampled)\n",
        "  x_val_scaled = scaler.transform(X_val)\n",
        "\n",
        "  #PCA\n",
        "  pca = PCA(n_components=0.99)\n",
        "  pca = pca.fit(x_train_scaled)\n",
        "  x_train_trans = pca.transform(x_train_scaled)\n",
        "  x_val_trans = pca.transform(x_val_scaled)\n",
        "\n",
        "  cv_inner = StratifiedKFold(n_splits=3, shuffle=True, random_state=1)\n",
        "  model_params = {'svm': \n",
        "                  {'model': SVC(gamma='scale', class_weight='balanced'),\n",
        "                    'params': {'C': [0.1, 1, 10],\n",
        "                                'kernel': ['rbf', 'linear']\n",
        "                               }\n",
        "                   },\n",
        "                  'linsvc': \n",
        "                  {'model': LinearSVC(class_weight='balanced', dual=True),\n",
        "                   'params':{'C': [0.1, 1, 10]\n",
        "                             }\n",
        "                  }\n",
        "                }\n",
        "  for model_name, mp in model_params.items():\n",
        "    search = GridSearchCV(mp['model'], mp['params'], cv = cv_inner, scoring = 'roc_auc', return_train_score=True)\n",
        "    result = search.fit(x_train_trans, y_resampled)\n",
        "    best_model = result.best_estimator_\n",
        "    models.append(best_model)\n",
        "    yhat = best_model.predict(x_val_trans)\n",
        "    auc_score_val = roc_auc_score(y_val, yhat)\n",
        "    outer_results.append(auc_score_val)\n",
        "    all_scores.append(result.best_score_)\n",
        "    print(f'auc: {auc_score_val}, result.best_score_:{result.best_score_}, best parameters:{result.best_params_}')\n",
        "\n"
      ],
      "execution_count": 34,
      "outputs": [
        {
          "output_type": "stream",
          "text": [
            "auc: 0.5287878787878787, result.best_score_:0.9863206765047255, best parameters:{'C': 10, 'kernel': 'rbf'}\n",
            "auc: 0.546969696969697, result.best_score_:0.984358591720555, best parameters:{'C': 10}\n",
            "auc: 0.5454545454545454, result.best_score_:0.9826315936913467, best parameters:{'C': 10, 'kernel': 'rbf'}\n",
            "auc: 0.49999999999999994, result.best_score_:0.9826876208084713, best parameters:{'C': 10}\n",
            "auc: 0.6818181818181817, result.best_score_:0.9815531760850513, best parameters:{'C': 10, 'kernel': 'rbf'}\n",
            "auc: 0.6818181818181819, result.best_score_:0.9668461854378099, best parameters:{'C': 10}\n",
            "auc: 0.6454545454545455, result.best_score_:0.9931385211494996, best parameters:{'C': 10, 'kernel': 'rbf'}\n",
            "auc: 0.6636363636363637, result.best_score_:0.9811376601011731, best parameters:{'C': 1}\n",
            "auc: 0.6759259259259258, result.best_score_:0.9935438546405296, best parameters:{'C': 10, 'kernel': 'rbf'}\n",
            "auc: 0.6851851851851852, result.best_score_:0.9711184074932867, best parameters:{'C': 10}\n",
            "auc: 0.625, result.best_score_:0.9860703600123361, best parameters:{'C': 10, 'kernel': 'rbf'}\n",
            "auc: 0.6435185185185185, result.best_score_:0.9773628302811032, best parameters:{'C': 10}\n",
            "auc: 0.6018518518518517, result.best_score_:0.9864472245700737, best parameters:{'C': 10, 'kernel': 'rbf'}\n",
            "auc: 0.6527777777777778, result.best_score_:0.9603862428940987, best parameters:{'C': 1}\n",
            "auc: 0.5138888888888888, result.best_score_:0.9594029999024606, best parameters:{'C': 10, 'kernel': 'rbf'}\n",
            "auc: 0.4907407407407408, result.best_score_:0.9477270136218213, best parameters:{'C': 0.1}\n",
            "auc: 0.8009259259259259, result.best_score_:0.9391575577722778, best parameters:{'C': 10, 'kernel': 'rbf'}\n",
            "auc: 0.6620370370370371, result.best_score_:0.8896531344995652, best parameters:{'C': 10}\n",
            "auc: 0.8194444444444443, result.best_score_:0.9725184327808633, best parameters:{'C': 10, 'kernel': 'rbf'}\n",
            "auc: 0.7222222222222221, result.best_score_:0.9754515041090505, best parameters:{'C': 1}\n"
          ],
          "name": "stdout"
        },
        {
          "output_type": "error",
          "ename": "TypeError",
          "evalue": "ignored",
          "traceback": [
            "\u001b[0;31m---------------------------------------------------------------------------\u001b[0m",
            "\u001b[0;31mTypeError\u001b[0m                                 Traceback (most recent call last)",
            "\u001b[0;32m<ipython-input-34-6c02db2bbc0d>\u001b[0m in \u001b[0;36m<module>\u001b[0;34m()\u001b[0m\n\u001b[1;32m     65\u001b[0m \u001b[0mouter_results\u001b[0m \u001b[0;34m=\u001b[0m \u001b[0mpd\u001b[0m\u001b[0;34m.\u001b[0m\u001b[0mDataFrame\u001b[0m\u001b[0;34m(\u001b[0m\u001b[0mouter_results\u001b[0m\u001b[0;34m)\u001b[0m\u001b[0;34m\u001b[0m\u001b[0;34m\u001b[0m\u001b[0m\n\u001b[1;32m     66\u001b[0m \u001b[0mall_scores\u001b[0m \u001b[0;34m=\u001b[0m \u001b[0mpd\u001b[0m\u001b[0;34m.\u001b[0m\u001b[0mDataFrame\u001b[0m\u001b[0;34m(\u001b[0m\u001b[0mall_scores\u001b[0m\u001b[0;34m)\u001b[0m\u001b[0;34m\u001b[0m\u001b[0;34m\u001b[0m\u001b[0m\n\u001b[0;32m---> 67\u001b[0;31m \u001b[0mresults\u001b[0m \u001b[0;34m=\u001b[0m \u001b[0mpd\u001b[0m\u001b[0;34m.\u001b[0m\u001b[0mconcat\u001b[0m\u001b[0;34m[\u001b[0m\u001b[0mmodels\u001b[0m\u001b[0;34m,\u001b[0m \u001b[0mouter_results\u001b[0m\u001b[0;34m,\u001b[0m\u001b[0mall_scores\u001b[0m\u001b[0;34m]\u001b[0m\u001b[0;34m\u001b[0m\u001b[0;34m\u001b[0m\u001b[0m\n\u001b[0m\u001b[1;32m     68\u001b[0m \u001b[0;34m\u001b[0m\u001b[0m\n",
            "\u001b[0;31mTypeError\u001b[0m: 'function' object is not subscriptable"
          ]
        }
      ]
    },
    {
      "cell_type": "markdown",
      "metadata": {
        "id": "C10micdFcCng"
      },
      "source": [
        "# Best classifier for test set"
      ]
    },
    {
      "cell_type": "code",
      "metadata": {
        "colab": {
          "base_uri": "https://localhost:8080/",
          "height": 898
        },
        "id": "AqnxvM-GcE4T",
        "outputId": "1d8f4edc-2521-4f98-9112-adbebc725768"
      },
      "source": [
        "models_df = pd.DataFrame(models)\n",
        "outer_results_df = pd.DataFrame(outer_results)\n",
        "all_scores_df = pd.DataFrame(all_scores)\n",
        "results = pd.concat([models, outer_results, all_scores], axis=1)\n",
        "results.columns = ['Models', 'Auc score', 'Best score']\n",
        "results_sorted = results.sort_values(by=['Auc score'], ascending=False)\n",
        "print(results_sorted)\n",
        "\n",
        "best_classifier = results_sorted['Models'].iloc[0]\n",
        "print(best_classifier)\n",
        "\n",
        "#Resampling\n",
        "resample = SMOTEENN(enn=EditedNearestNeighbours(sampling_strategy='majority'))\n",
        "X_resampled, y_resampled = resample.fit_resample(x_train_val, y_train_val)\n",
        "\n",
        "#Scaling\n",
        "scaler = preprocessing.RobustScaler()\n",
        "scaler.fit(X_resampled)\n",
        "x_train_scaled = scaler.transform(X_resampled)\n",
        "x_test_scaled = scaler.transform(x_test)\n",
        "\n",
        "#PCA\n",
        "pca = PCA(n_components=0.99)\n",
        "pca = pca.fit(x_train_scaled)\n",
        "x_train_trans = pca.transform(x_train_scaled)\n",
        "x_test_trans = pca.transform(x_test_scaled)\n",
        "\n",
        "# Evaluation classifier\n",
        "clf = best_classifier.fit(x_train_trans, y_resampled)\n",
        "y_pred = clf.predict(x_test_trans)\n",
        "accuracy = metrics.balanced_accuracy_score(y_test, y_pred)\n",
        "auc = metrics.roc_auc_score(y_test, y_pred)\n",
        "print('Misclassified: %d / %d' % ((y_test != y_pred).sum(), x_test.shape[0]), str(clf))\n",
        "evaluation(y_test, y_pred)\n",
        "\n",
        "print(f'Auc score test data: {auc}')\n"
      ],
      "execution_count": 62,
      "outputs": [
        {
          "output_type": "stream",
          "text": [
            "                                               Models  Auc score  Best score\n",
            "18  SVC(C=10, break_ties=False, cache_size=200, cl...   0.819444    0.972518\n",
            "16  SVC(C=10, break_ties=False, cache_size=200, cl...   0.800926    0.939158\n",
            "19  LinearSVC(C=1, class_weight='balanced', dual=T...   0.722222    0.975452\n",
            "9   LinearSVC(C=10, class_weight='balanced', dual=...   0.685185    0.971118\n",
            "5   LinearSVC(C=10, class_weight='balanced', dual=...   0.681818    0.966846\n",
            "4   SVC(C=10, break_ties=False, cache_size=200, cl...   0.681818    0.981553\n",
            "8   SVC(C=10, break_ties=False, cache_size=200, cl...   0.675926    0.993544\n",
            "7   LinearSVC(C=1, class_weight='balanced', dual=T...   0.663636    0.981138\n",
            "17  LinearSVC(C=10, class_weight='balanced', dual=...   0.662037    0.889653\n",
            "13  LinearSVC(C=1, class_weight='balanced', dual=T...   0.652778    0.960386\n",
            "6   SVC(C=10, break_ties=False, cache_size=200, cl...   0.645455    0.993139\n",
            "11  LinearSVC(C=10, class_weight='balanced', dual=...   0.643519    0.977363\n",
            "10  SVC(C=10, break_ties=False, cache_size=200, cl...   0.625000    0.986070\n",
            "12  SVC(C=10, break_ties=False, cache_size=200, cl...   0.601852    0.986447\n",
            "1   LinearSVC(C=10, class_weight='balanced', dual=...   0.546970    0.984359\n",
            "2   SVC(C=10, break_ties=False, cache_size=200, cl...   0.545455    0.982632\n",
            "0   SVC(C=10, break_ties=False, cache_size=200, cl...   0.528788    0.986321\n",
            "14  SVC(C=10, break_ties=False, cache_size=200, cl...   0.513889    0.959403\n",
            "3   LinearSVC(C=10, class_weight='balanced', dual=...   0.500000    0.982688\n",
            "15  LinearSVC(C=0.1, class_weight='balanced', dual...   0.490741    0.947727\n",
            "SVC(C=10, break_ties=False, cache_size=200, class_weight='balanced', coef0=0.0,\n",
            "    decision_function_shape='ovr', degree=3, gamma='scale', kernel='rbf',\n",
            "    max_iter=-1, probability=False, random_state=None, shrinking=True,\n",
            "    tol=0.001, verbose=False)\n",
            "Misclassified: 33 / 166 SVC(C=10, break_ties=False, cache_size=200, class_weight='balanced', coef0=0.0,\n",
            "    decision_function_shape='ovr', degree=3, gamma='scale', kernel='rbf',\n",
            "    max_iter=-1, probability=False, random_state=None, shrinking=True,\n",
            "    tol=0.001, verbose=False)\n",
            "Recall:  0.6206896551724138\n",
            "Accuracy:  0.8012048192771084\n",
            "Precision:  0.45\n",
            "F1:  0.5217391304347826\n",
            "Auc score test data: 0.7300528567832871\n"
          ],
          "name": "stdout"
        },
        {
          "output_type": "display_data",
          "data": {
            "image/png": "[encoded data removed]",
            "text/plain": [
              "<Figure size 432x288 with 2 Axes>"
            ]
          },
          "metadata": {
            "tags": [],
            "needs_background": "light"
          }
        }
      ]
    }
  ]
}